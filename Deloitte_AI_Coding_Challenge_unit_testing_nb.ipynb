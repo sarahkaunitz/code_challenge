{
 "cells": [
  {
   "cell_type": "markdown",
   "id": "6f83e755",
   "metadata": {},
   "source": [
    "## Part 0\n"
   ]
  },
  {
   "cell_type": "markdown",
   "id": "966142a1",
   "metadata": {},
   "source": [
    "### Setup a Docker image: install a Data Manipulation framework (PySpark or Pandas or any other that will help answer the challenge) and anything else you need. Include the Dockerfile in the submission."
   ]
  },
  {
   "cell_type": "code",
   "execution_count": null,
   "id": "cfac0803",
   "metadata": {},
   "outputs": [],
   "source": [
    "import csv \n",
    "import json\n",
    "import os \n",
    "import pandas as pd \n",
    "import sys \n",
    "from itertools import chain"
   ]
  },
  {
   "cell_type": "markdown",
   "id": "443d0561",
   "metadata": {},
   "source": [
    "## Part I "
   ]
  },
  {
   "cell_type": "markdown",
   "id": "148d4cc4",
   "metadata": {},
   "source": [
    "#### Mapping of credit_card_vendor to list of card prefix"
   ]
  },
  {
   "cell_type": "code",
   "execution_count": null,
   "id": "7a712849",
   "metadata": {},
   "outputs": [],
   "source": [
    "# prefix_vendor = list of credit first digits that are representing this vendor.\n",
    "maestro = ['5018', '5020', '5038', '56']\n",
    "mastercard = ['51', '52', '54', '55', '222']\n",
    "visa = ['4']\n",
    "amex = ['34', '37']\n",
    "discover = ['6011', '65']\n",
    "diners = ['300', '301', '304', '305', '36', '38']\n",
    "jcb16 = ['35']\n",
    "jcb15 = ['2131', '1800']"
   ]
  },
  {
   "cell_type": "code",
   "execution_count": null,
   "id": "303f2f3f",
   "metadata": {},
   "outputs": [],
   "source": [
    "# Make dictionary of vendors \n",
    "vendors = {'maestro' : maestro,\n",
    "           'mastercard' : mastercard,\n",
    "           'visa' : visa,\n",
    "           'amex' : amex,\n",
    "           'discover' : discover,\n",
    "           'diners' : diners,\n",
    "           'jcb16' : jcb16,\n",
    "           'jcb15' : jcb15}"
   ]
  },
  {
   "cell_type": "code",
   "execution_count": null,
   "id": "67a6184c",
   "metadata": {},
   "outputs": [],
   "source": [
    "# vendors"
   ]
  },
  {
   "cell_type": "code",
   "execution_count": null,
   "id": "c8f4aa99",
   "metadata": {},
   "outputs": [],
   "source": [
    "# Map all credit first digits to the vendor to a flattened list \n",
    "credit_cards = maestro + mastercard + visa + amex + discover + diners + jcb16 + jcb15"
   ]
  },
  {
   "cell_type": "code",
   "execution_count": null,
   "id": "24ee412e",
   "metadata": {},
   "outputs": [],
   "source": [
    "# credit_cards"
   ]
  },
  {
   "cell_type": "markdown",
   "id": "64066191",
   "metadata": {},
   "source": [
    "### Import, load, and return the fraud file"
   ]
  },
  {
   "cell_type": "code",
   "execution_count": null,
   "id": "581d7747",
   "metadata": {},
   "outputs": [],
   "source": [
    "from experiment import (get_fraud_file)"
   ]
  },
  {
   "cell_type": "code",
   "execution_count": null,
   "id": "a6554d97",
   "metadata": {},
   "outputs": [],
   "source": [
    "test_fraud_file = ('test_datasets/test_fraud')"
   ]
  },
  {
   "cell_type": "code",
   "execution_count": null,
   "id": "465cf227",
   "metadata": {},
   "outputs": [],
   "source": [
    "from pathlib import Path\n",
    "\n",
    "file_name = Path(test_fraud_file)\n",
    "if file_name.exists():\n",
    "    print(\"exists\") \n",
    "else:\n",
    "    print(\"does not exist\")"
   ]
  },
  {
   "cell_type": "code",
   "execution_count": null,
   "id": "d9bfe9a6",
   "metadata": {},
   "outputs": [],
   "source": [
    "def test_get_fraud_file():\n",
    "    test_fraud_file = ('test_datasets/test_fraud')\n",
    "     return fraud_dataset\n"
   ]
  },
  {
   "cell_type": "code",
   "execution_count": null,
   "id": "bed7026d",
   "metadata": {},
   "outputs": [],
   "source": [
    "fraud_dataset = get_fraud_file(fraud_file)"
   ]
  },
  {
   "cell_type": "code",
   "execution_count": null,
   "id": "3c0026d6",
   "metadata": {},
   "outputs": [],
   "source": [
    "len(fraud_dataset)"
   ]
  },
  {
   "cell_type": "markdown",
   "id": "5724b33d",
   "metadata": {},
   "source": [
    "# Part I"
   ]
  },
  {
   "cell_type": "markdown",
   "id": "a2d629d1",
   "metadata": {},
   "source": [
    "### Sanitize data of both transaction-001.zip and transaction-002.zip by removing transactions where column `credit_card_number` is not part of the previous provided list. For example, a credit card that starts with `98` is not a valid card and should be discarded from the sanitized dataset.\n"
   ]
  },
  {
   "cell_type": "code",
   "execution_count": null,
   "id": "f67ba4b1",
   "metadata": {},
   "outputs": [],
   "source": [
    "file_list=['datasets/transaction-001','datasets/transaction-002']"
   ]
  },
  {
   "cell_type": "code",
   "execution_count": null,
   "id": "6631ba8f",
   "metadata": {},
   "outputs": [],
   "source": [
    "def load_transaction_files(file_list):\n",
    "    main_dataframe = pd.DataFrame(pd.read_csv(file_list[0]))\n",
    "    for i in range(1,len(file_list)):\n",
    "        data = pd.read_csv(file_list[i])\n",
    "        df = pd.DataFrame(data)\n",
    "        main_dataframe = pd.concat([main_dataframe,df],axis=0)\n",
    "    transaction_files = main_dataframe.reset_index(drop=True)\n",
    "    return transaction_files"
   ]
  },
  {
   "cell_type": "code",
   "execution_count": null,
   "id": "a608ad07",
   "metadata": {},
   "outputs": [],
   "source": [
    "transaction_files = load_transaction_files(file_list)\n",
    "transaction_files"
   ]
  },
  {
   "cell_type": "markdown",
   "id": "b6228786",
   "metadata": {},
   "source": [
    "#### Sanity check that the files loaded properly and the dataframe is of the correct size \n",
    "Also reset the index to show it as one complete file instead of two files each of size 250000 entries. \n"
   ]
  },
  {
   "cell_type": "code",
   "execution_count": null,
   "id": "3abaabaa",
   "metadata": {},
   "outputs": [],
   "source": [
    "len(transaction_files) # Should be 500,000"
   ]
  },
  {
   "cell_type": "code",
   "execution_count": null,
   "id": "0ed711de",
   "metadata": {},
   "outputs": [],
   "source": [
    "# transaction_files.drop_duplicates()"
   ]
  },
  {
   "cell_type": "code",
   "execution_count": null,
   "id": "b9c621cc",
   "metadata": {},
   "outputs": [],
   "source": [
    "def get_prefix_column(transaction_files):\n",
    "    numbers = transaction_files[\"credit_card_number\"]\n",
    "    start_nums = []\n",
    "    for index, number in enumerate(numbers):\n",
    "        str_num = str(number)\n",
    "        strt_val = list(filter(str_num.startswith, credit_cards)) \n",
    "        start_nums.append(strt_val)\n",
    "    start_vals = list(chain(*start_nums)) \n",
    "    start_vals = [int(i) for i in start_vals]\n",
    "    return start_vals\n",
    "\n",
    "start_vals = get_prefix_column(transaction_files)"
   ]
  },
  {
   "cell_type": "code",
   "execution_count": null,
   "id": "bbd3e53a",
   "metadata": {},
   "outputs": [],
   "source": [
    "def filter_transactions(transaction_files, credit_cards, start_vals):\n",
    "    \"\"\"\n",
    "    Takes in a pandas dataframe and a list of credit card numbers \n",
    "    and filters the dataframe to create a new column \n",
    "    based on if the credit_card_number starts with one of the \n",
    "    valid prefix vendor values \n",
    "    \"\"\"\n",
    "    numbers = transaction_files[\"credit_card_number\"]\n",
    "    str_nums = []\n",
    "    valid_nums = []\n",
    "    for index, number in enumerate(numbers):\n",
    "        str_num = str(number)\n",
    "        result = list(filter(str_num.startswith, credit_cards)) != [] # if the element startswith a credit_cardscredit_card_numbers value keep it, otherwise, remove \n",
    "        valid_nums.append(result) # this a boolean list of 'True' or 'False' if the card matches the valid vendor numbers \n",
    "        str_nums.append(str_num) # This is a list of all the transaction values as strings \n",
    "    results = pd.DataFrame({'credit_card_number':str_nums,\n",
    "                            'ipv4':transaction_files['ipv4'],\n",
    "                            'state':transaction_files['state'],\n",
    "                            'valid_vendor':valid_nums})\n",
    "    valid_results = results[results['valid_vendor'] == True]\n",
    "    valid_results.loc[:,\"start_val\"] = start_vals    \n",
    "    valid_results = valid_results.reset_index(drop=True)\n",
    "    \n",
    "    fraud_results = results[results['valid_vendor'] == False]\n",
    "    fraud_results = fraud_results.reset_index(drop=True)\n",
    "    return results, numbers, valid_results, fraud_results\n",
    "\n",
    "\n",
    "results, numbers, valid_results, fraud_results = filter_transactions(transaction_files, credit_cards, start_vals)\n"
   ]
  },
  {
   "cell_type": "code",
   "execution_count": null,
   "id": "1b058a68",
   "metadata": {},
   "outputs": [],
   "source": [
    "# valid_results\n",
    "# fraud_results"
   ]
  },
  {
   "cell_type": "code",
   "execution_count": 1,
   "id": "39024ceb",
   "metadata": {},
   "outputs": [],
   "source": [
    "import csv \n",
    "import json\n",
    "import os \n",
    "import pandas as pd \n",
    "import sys \n",
    "from itertools import chain"
   ]
  },
  {
   "cell_type": "code",
   "execution_count": 61,
   "id": "7da467de",
   "metadata": {},
   "outputs": [],
   "source": [
    "from experiment import (get_fraud_file,\n",
    "                        load_transaction_files, \n",
    "                        get_prefix_column,\n",
    "                        filter_transactions,\n",
    "                        filter_fraud_in_transactions,\n",
    "                        fraud_by_state)"
   ]
  },
  {
   "cell_type": "code",
   "execution_count": 63,
   "id": "34ad1b98",
   "metadata": {},
   "outputs": [
    {
     "ename": "TypeError",
     "evalue": "'DataFrame' object is not callable",
     "output_type": "error",
     "traceback": [
      "\u001b[0;31m---------------------------------------------------------------------------\u001b[0m",
      "\u001b[0;31mTypeError\u001b[0m                                 Traceback (most recent call last)",
      "\u001b[0;32m/var/folders/p6/x8vczf4d60ngk_0r9j69tqgm0000gn/T/ipykernel_9197/2611633279.py\u001b[0m in \u001b[0;36m<module>\u001b[0;34m\u001b[0m\n\u001b[1;32m      8\u001b[0m \u001b[0mresults\u001b[0m\u001b[0;34m,\u001b[0m \u001b[0mnumbers\u001b[0m\u001b[0;34m,\u001b[0m \u001b[0mvalid_results\u001b[0m\u001b[0;34m,\u001b[0m \u001b[0mfraud_results\u001b[0m \u001b[0;34m=\u001b[0m \u001b[0mfilter_transactions\u001b[0m\u001b[0;34m(\u001b[0m\u001b[0mtransaction_files\u001b[0m\u001b[0;34m,\u001b[0m \u001b[0mcredit_cards\u001b[0m\u001b[0;34m,\u001b[0m \u001b[0mstart_vals\u001b[0m\u001b[0;34m)\u001b[0m\u001b[0;34m\u001b[0m\u001b[0;34m\u001b[0m\u001b[0m\n\u001b[1;32m      9\u001b[0m \u001b[0mvalid_transactions\u001b[0m\u001b[0;34m,\u001b[0m \u001b[0mfraud_transactions\u001b[0m \u001b[0;34m=\u001b[0m \u001b[0mfilter_fraud_in_transactions\u001b[0m\u001b[0;34m(\u001b[0m\u001b[0mfraud_dataset1\u001b[0m\u001b[0;34m,\u001b[0m \u001b[0mvalid_results\u001b[0m\u001b[0;34m)\u001b[0m\u001b[0;34m\u001b[0m\u001b[0;34m\u001b[0m\u001b[0m\n\u001b[0;32m---> 10\u001b[0;31m \u001b[0mfraud_by_state\u001b[0m \u001b[0;34m=\u001b[0m \u001b[0mfraud_by_state\u001b[0m\u001b[0;34m(\u001b[0m\u001b[0mfraud_transactions\u001b[0m\u001b[0;34m)\u001b[0m\u001b[0;34m\u001b[0m\u001b[0;34m\u001b[0m\u001b[0m\n\u001b[0m",
      "\u001b[0;31mTypeError\u001b[0m: 'DataFrame' object is not callable"
     ]
    }
   ],
   "source": [
    "test_fraud_file1 = ('test_datasets/test_fraud')\n",
    "test_file_list = ['test_datasets/transaction_test1','test_datasets/transaction_test2']\n",
    "credit_cards = ['5018','5020','2131','56','300', '6011']\n",
    "\n",
    "fraud_dataset1 = get_fraud_file(test_fraud_file1)\n",
    "transaction_files = load_transaction_files(test_file_list)\n",
    "start_vals = get_prefix_column(transaction_files, credit_cards)\n",
    "results, numbers, valid_results, fraud_results = filter_transactions(transaction_files, credit_cards, start_vals)\n",
    "valid_transactions, fraud_transactions = filter_fraud_in_transactions(fraud_dataset1, valid_results)\n",
    "fraud_by_state = fraud_by_state(fraud_transactions)"
   ]
  },
  {
   "cell_type": "code",
   "execution_count": 66,
   "id": "32920c41",
   "metadata": {},
   "outputs": [],
   "source": [
    "fraud_groupby_state = fraud_transactions.groupby('state').count()\n",
    "fraud_by_state = fraud_groupby_state[['credit_card_number']]\n",
    "fraud_by_state = fraud_by_state.rename(columns={'credit_card_number': 'count'})"
   ]
  },
  {
   "cell_type": "code",
   "execution_count": 72,
   "id": "078d3b96",
   "metadata": {},
   "outputs": [
    {
     "data": {
      "text/html": [
       "<div>\n",
       "<style scoped>\n",
       "    .dataframe tbody tr th:only-of-type {\n",
       "        vertical-align: middle;\n",
       "    }\n",
       "\n",
       "    .dataframe tbody tr th {\n",
       "        vertical-align: top;\n",
       "    }\n",
       "\n",
       "    .dataframe thead th {\n",
       "        text-align: right;\n",
       "    }\n",
       "</style>\n",
       "<table border=\"1\" class=\"dataframe\">\n",
       "  <thead>\n",
       "    <tr style=\"text-align: right;\">\n",
       "      <th></th>\n",
       "      <th>credit_card_number</th>\n",
       "      <th>ipv4</th>\n",
       "      <th>state</th>\n",
       "      <th>valid_vendor</th>\n",
       "      <th>start_val</th>\n",
       "    </tr>\n",
       "  </thead>\n",
       "  <tbody>\n",
       "    <tr>\n",
       "      <th>0</th>\n",
       "      <td>5018192281</td>\n",
       "      <td>1.22.333.4444</td>\n",
       "      <td>AZ</td>\n",
       "      <td>True</td>\n",
       "      <td>5018</td>\n",
       "    </tr>\n",
       "    <tr>\n",
       "      <th>1</th>\n",
       "      <td>5020843874</td>\n",
       "      <td>1.22.333.4444</td>\n",
       "      <td>CA</td>\n",
       "      <td>True</td>\n",
       "      <td>5020</td>\n",
       "    </tr>\n",
       "    <tr>\n",
       "      <th>2</th>\n",
       "      <td>2131829272</td>\n",
       "      <td>1.22.333.4444</td>\n",
       "      <td>TX</td>\n",
       "      <td>True</td>\n",
       "      <td>2131</td>\n",
       "    </tr>\n",
       "    <tr>\n",
       "      <th>3</th>\n",
       "      <td>5647382910</td>\n",
       "      <td>1.22.333.4444</td>\n",
       "      <td>NJ</td>\n",
       "      <td>True</td>\n",
       "      <td>56</td>\n",
       "    </tr>\n",
       "    <tr>\n",
       "      <th>4</th>\n",
       "      <td>3000000000</td>\n",
       "      <td>1.22.333.4444</td>\n",
       "      <td>TN</td>\n",
       "      <td>True</td>\n",
       "      <td>300</td>\n",
       "    </tr>\n",
       "    <tr>\n",
       "      <th>5</th>\n",
       "      <td>6011373939</td>\n",
       "      <td>1.22.333.4444</td>\n",
       "      <td>AL</td>\n",
       "      <td>True</td>\n",
       "      <td>6011</td>\n",
       "    </tr>\n",
       "    <tr>\n",
       "      <th>6</th>\n",
       "      <td>2131838932</td>\n",
       "      <td>1.22.333.4444</td>\n",
       "      <td>NM</td>\n",
       "      <td>True</td>\n",
       "      <td>2131</td>\n",
       "    </tr>\n",
       "  </tbody>\n",
       "</table>\n",
       "</div>"
      ],
      "text/plain": [
       "  credit_card_number           ipv4 state  valid_vendor  start_val\n",
       "0         5018192281  1.22.333.4444    AZ          True       5018\n",
       "1         5020843874  1.22.333.4444    CA          True       5020\n",
       "2         2131829272  1.22.333.4444    TX          True       2131\n",
       "3         5647382910  1.22.333.4444    NJ          True         56\n",
       "4         3000000000  1.22.333.4444    TN          True        300\n",
       "5         6011373939  1.22.333.4444    AL          True       6011\n",
       "6         2131838932  1.22.333.4444    NM          True       2131"
      ]
     },
     "execution_count": 72,
     "metadata": {},
     "output_type": "execute_result"
    }
   ],
   "source": [
    "valid_results"
   ]
  },
  {
   "cell_type": "code",
   "execution_count": null,
   "id": "5f7c3dbf",
   "metadata": {},
   "outputs": [],
   "source": []
  },
  {
   "cell_type": "code",
   "execution_count": null,
   "id": "c3597d8c",
   "metadata": {},
   "outputs": [],
   "source": []
  },
  {
   "cell_type": "markdown",
   "id": "b548c7d6",
   "metadata": {},
   "source": [
    "## Part II "
   ]
  },
  {
   "cell_type": "markdown",
   "id": "0333f09b",
   "metadata": {},
   "source": [
    "- Candidate should assume that going forward, only the sanitized dataset should be used.\n"
   ]
  },
  {
   "cell_type": "markdown",
   "id": "9dfdf336",
   "metadata": {},
   "source": [
    "### - Find in the sanitized dataset if it contains fraudulent transactions (using the data from loading fraud.zip) and report their number.\n"
   ]
  },
  {
   "cell_type": "code",
   "execution_count": null,
   "id": "a56e09e5",
   "metadata": {},
   "outputs": [],
   "source": [
    "def filter_fraud_in_transactions(fraud_dataset, valid_results):\n",
    "    \"\"\"\n",
    "    From the santitized results dataframe \n",
    "    filter the DF to display only the numbers\n",
    "    that are present in the fraud.zip file \n",
    "    \"\"\"\n",
    "#     This just produces a list of all the fraud credit_cards that exist in the sanitized dataframe\n",
    "#     fraud_transactions = list(set(results_filtered['credit_card_number']).intersection(fraud_dataset))\n",
    "\n",
    "#     A better way is to produce the whole dataframe and other columns of the credit_cardscredit_card_numbers in the sanitized\n",
    "#     dataframe that also exist in fraud.zip \n",
    "    fraud_transactions = valid_results[valid_results['credit_card_number'].isin(fraud_dataset)].drop_duplicates()\n",
    "    fraud_transactions = fraud_transactions.reset_index(drop=True)\n",
    "    fraud_transactions['valid_card'] = False\n",
    "    valid_transactions = valid_results.drop(fraud_transactions.index)\n",
    "    valid_transactions['valid_card'] = True\n",
    "    return valid_transactions, fraud_transactions"
   ]
  },
  {
   "cell_type": "code",
   "execution_count": null,
   "id": "3f345c0a",
   "metadata": {},
   "outputs": [],
   "source": [
    "valid_transactions, fraud_transactions = filter_fraud_in_transactions(fraud_dataset, valid_results)"
   ]
  },
  {
   "cell_type": "code",
   "execution_count": null,
   "id": "c5b2ece9",
   "metadata": {},
   "outputs": [],
   "source": [
    "model_data = valid_transactions.append(fraud_transactions)\n",
    "# model_data.to_csv('modeling_data.csv')"
   ]
  },
  {
   "cell_type": "code",
   "execution_count": null,
   "id": "ce628b4d",
   "metadata": {},
   "outputs": [],
   "source": [
    "print('Within the sanitized dataframe, there were', len(fraud_transactions), 'instances of fraudulent transactions.')"
   ]
  },
  {
   "cell_type": "markdown",
   "id": "a05f5695",
   "metadata": {},
   "source": [
    "### - Create a report of the number of fraudulent transactions per state."
   ]
  },
  {
   "cell_type": "code",
   "execution_count": null,
   "id": "1265cebb",
   "metadata": {},
   "outputs": [],
   "source": [
    "# - Create a report of the number of fraudulent transactions per state.\n",
    "### MAY WANT TO CONSIDER RETURNING A JSON FORMAT FILE \n",
    "\n",
    "def get_fraud_by_state(fraud_transactions):\n",
    "    \"\"\"\n",
    "    Takes in a dataframe (fraud_transactions within valid_results)\n",
    "    performs a group by on state,\n",
    "    and returns a json serialized list of the count of\n",
    "    transactions by state as objects\n",
    "    \"\"\"\n",
    "    fraud_groupby_state = fraud_transactions.groupby('state').count()\n",
    "    fraud_by_state = fraud_groupby_state[['credit_card_number']]\n",
    "    fraud_by_state = fraud_by_state.rename(columns={'credit_card_number': 'count'})\n",
    "\n",
    "    return fraud_by_state\n",
    "fraud_by_state = get_fraud_by_state(fraud_transactions)"
   ]
  },
  {
   "cell_type": "code",
   "execution_count": null,
   "id": "1d988f17",
   "metadata": {},
   "outputs": [],
   "source": [
    "# print(fraud_by_state.sum())\n",
    "# fraud_by_state[0:10]"
   ]
  },
  {
   "cell_type": "markdown",
   "id": "9339047e",
   "metadata": {},
   "source": [
    "### - Create a report of the number of fraudulent transactions per card vendor, e.g., maestro => 45, amex => 78, etc..\n"
   ]
  },
  {
   "cell_type": "code",
   "execution_count": null,
   "id": "38d14bd5",
   "metadata": {},
   "outputs": [],
   "source": [
    "def get_vendors_val_key(item):\n",
    "    for key, val in vendors.items():\n",
    "        if item in val:\n",
    "            return key"
   ]
  },
  {
   "cell_type": "code",
   "execution_count": null,
   "id": "b7ba6c7b",
   "metadata": {},
   "outputs": [],
   "source": [
    "# - Create a report of the number of fraudulent transactions per vendor.\n",
    "### MAY WANT TO CONSIDER RETURNING A JSON FORMAT FILE \n",
    "\n",
    "def get_fraud_by_vendor(fraud_transactions):\n",
    "    \"\"\"\n",
    "    Takes in an dataframe performs a group by on state,\n",
    "    and returns a json serialized list of the count of\n",
    "    transactions by state as objects\n",
    "    \"\"\"\n",
    "    fraud_transactions['start_val']= fraud_transactions['start_val'].map(str)\n",
    "    fraud_transactions['name'] = fraud_transactions.start_val.map(get_vendors_val_key)\n",
    "    fraud_groupby_vendor = fraud_transactions.groupby('name').count()\n",
    "    fraud_by_vendor = fraud_groupby_vendor[['credit_card_number']]\n",
    "    fraud_by_vendor = fraud_by_vendor.rename(columns={'credit_card_number': 'count'})\n",
    "    return fraud_transactions, fraud_by_vendor"
   ]
  },
  {
   "cell_type": "code",
   "execution_count": null,
   "id": "254122fa",
   "metadata": {},
   "outputs": [],
   "source": [
    "# fraud_transactions"
   ]
  },
  {
   "cell_type": "code",
   "execution_count": null,
   "id": "9f62005c",
   "metadata": {},
   "outputs": [],
   "source": [
    "fraud_transactions, fraud_by_vendor = get_fraud_by_vendor(fraud_transactions)\n",
    "print(fraud_by_vendor.sum())\n",
    "# fraud_by_vendor"
   ]
  },
  {
   "cell_type": "markdown",
   "id": "19fdef34",
   "metadata": {},
   "source": [
    "### - Create a dataset of 3 columns and save in both JSON and in a binary fileformat that you believe it's suitable for BI analysis:\n",
    "####   - column 1: masked credit card: replace 9 last digits of the credit card with `*`\n",
    "####   - column 2: ip address\n",
    "####   - column 3: state\n",
    "####   - column 4: sum of number of byte of (column 1 + column 2 + column 3)"
   ]
  },
  {
   "cell_type": "code",
   "execution_count": null,
   "id": "b6a855c4",
   "metadata": {},
   "outputs": [],
   "source": [
    "def masked_credit_cards(valid_results):\n",
    "    dicts = []\n",
    "    for index, row in enumerate(valid_results['credit_card_number']):\n",
    "        full_card_number = valid_results['credit_card_number'].astype(str).iloc[index][:-9]\n",
    "        masked = full_card_number + '*' * 9\n",
    "        ipv4_value = valid_results['ipv4'][index]\n",
    "        state_value = valid_results['state'][index]\n",
    "        byte_number = sys.getsizeof(masked + ipv4_value + state_value)\n",
    "        dict = {'credit_card_number' : masked,\n",
    "                 'ipv4' : ipv4_value,\n",
    "                 'state' : state_value,\n",
    "                 'bytes' : byte_number}\n",
    "        dicts.append(dict)\n",
    "    df_dicts = pd.DataFrame(dicts) \n",
    "    return df_dicts"
   ]
  },
  {
   "cell_type": "code",
   "execution_count": null,
   "id": "f59c57ca",
   "metadata": {},
   "outputs": [],
   "source": [
    "# tmp = fraud_transactions[0:10]"
   ]
  },
  {
   "cell_type": "code",
   "execution_count": null,
   "id": "5a1cc552",
   "metadata": {},
   "outputs": [],
   "source": [
    "# %%time\n",
    "# final_df = masked_credit_cards(valid_results)\n",
    "# final_df"
   ]
  },
  {
   "cell_type": "code",
   "execution_count": null,
   "id": "6a8a2f76",
   "metadata": {},
   "outputs": [],
   "source": [
    "final_df = masked_credit_cards(valid_results)\n",
    "final_df"
   ]
  },
  {
   "cell_type": "code",
   "execution_count": null,
   "id": "5fe3faf2",
   "metadata": {},
   "outputs": [],
   "source": [
    "def make_json_file(final_df):\n",
    "    directory = 'results/'\n",
    "    sample = final_df.to_dict()\n",
    "    with open(directory + \"final_df.json\", \"w\") as outfile:\n",
    "        json.dump(sample, outfile)"
   ]
  },
  {
   "cell_type": "code",
   "execution_count": null,
   "id": "c1cee43a",
   "metadata": {},
   "outputs": [],
   "source": [
    "make_json_file(final_df)"
   ]
  },
  {
   "cell_type": "code",
   "execution_count": null,
   "id": "6be1b4aa",
   "metadata": {},
   "outputs": [],
   "source": [
    "def make_binary_file(final_df):\n",
    "    directory = 'results/'\n",
    "    with open(directory + 'sample', 'wb') as f:\n",
    "        f.write(bytes(final_df, encoding='utf8'))\n",
    "    "
   ]
  },
  {
   "cell_type": "code",
   "execution_count": null,
   "id": "2bfa65ce",
   "metadata": {},
   "outputs": [],
   "source": [
    "make_binary_file(final_df)"
   ]
  },
  {
   "cell_type": "code",
   "execution_count": null,
   "id": "e104a4a7",
   "metadata": {},
   "outputs": [],
   "source": [
    "def generate_json_file(data, file):\n",
    "    directory = 'results/'\n",
    "    with open(directory + file + '.json', 'w') as f:\n",
    "        f.write(data)\n",
    "\n",
    "def generate_binary_file(data, file):\n",
    "    directory = 'results/'\n",
    "    with open(directory + file, 'wb') as f:\n",
    "        f.write(bytes(data, encoding='utf8'))"
   ]
  },
  {
   "cell_type": "code",
   "execution_count": null,
   "id": "2c872a86",
   "metadata": {},
   "outputs": [],
   "source": []
  },
  {
   "cell_type": "code",
   "execution_count": null,
   "id": "f7cd41f0",
   "metadata": {},
   "outputs": [],
   "source": []
  },
  {
   "cell_type": "code",
   "execution_count": null,
   "id": "fcf582d5",
   "metadata": {},
   "outputs": [],
   "source": []
  },
  {
   "cell_type": "markdown",
   "id": "e2d60160",
   "metadata": {},
   "source": [
    "### Part IV \n",
    "\n",
    "#### - Create a ML model that you think is useful using the datasets provided (raw or/and sanitized)\n",
    "#### - Provide insight/metrics on how to validate if the model is accurate."
   ]
  },
  {
   "cell_type": "code",
   "execution_count": null,
   "id": "152ab4d3",
   "metadata": {},
   "outputs": [],
   "source": [
    "# frauddata = ('/Users/sarahkaunitz/Documents/deloitte/AI_Engineer/code_challenge/datasets/modeling_data.csv')\n",
    "# fraud_data = pd.read_csv(frauddata)\n",
    "# fraud_data.drop(['Unnamed: 0'], axis=1)"
   ]
  }
 ],
 "metadata": {
  "kernelspec": {
   "display_name": "Python 3 (ipykernel)",
   "language": "python",
   "name": "python3"
  },
  "language_info": {
   "codemirror_mode": {
    "name": "ipython",
    "version": 3
   },
   "file_extension": ".py",
   "mimetype": "text/x-python",
   "name": "python",
   "nbconvert_exporter": "python",
   "pygments_lexer": "ipython3",
   "version": "3.9.7"
  }
 },
 "nbformat": 4,
 "nbformat_minor": 5
}
